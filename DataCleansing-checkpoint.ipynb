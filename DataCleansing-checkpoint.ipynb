{
 "cells": [
  {
   "cell_type": "code",
   "execution_count": null,
   "metadata": {},
   "outputs": [],
   "source": [
    "import pandas as pd\n",
    "import requests\n",
    "from pprint import pprint as pp\n",
    "from api_keys import g_key"
   ]
  },
  {
   "cell_type": "code",
   "execution_count": null,
   "metadata": {},
   "outputs": [],
   "source": [
    "#load Census 2019 Population Estimate Data\n",
    "popFile2019_csv = \"Resources/co_est2019_alldata.csv\"\n",
    "population_df = pd.read_csv(popFile2019_csv,encoding='latin-1')\n",
    "population_df = population_df[[\"STNAME\",\"CTYNAME\",\"POPESTIMATE2019\"]]\n",
    "population_df = population_df.rename(columns={'STNAME': 'State', 'CTYNAME': 'County'})\n",
    "population_df.head()"
   ]
  },
  {
   "cell_type": "code",
   "execution_count": null,
   "metadata": {},
   "outputs": [],
   "source": [
    "#load Census 2018 5yr ACS Survey Data\n",
    "medIncome_csv = \"Resources/2018 ACS 5 Year Detailed Median Household Income.csv\"\n",
    "medIncome_df = pd.read_csv(medIncome_csv) \n",
    "medIncome_df.head()"
   ]
  },
  {
   "cell_type": "code",
   "execution_count": null,
   "metadata": {},
   "outputs": [],
   "source": [
    "#Adjust state/county column and rename columns\n",
    "medIncSt = []\n",
    "medIncCty = []\n",
    "\n",
    "new = medIncome_df[\"NAME\"].str.split(\", \", n = 1, expand = True) \n",
    "medIncSt = new[1]\n",
    "medIncCty = new[0]\n",
    "medIncome_df[\"State\"] = medIncSt\n",
    "medIncome_df[\"County\"] = medIncCty\n",
    "medIncome_df = medIncome_df[[\"GEO_ID\",\"State\",\"County\",\"B19013_001E\", \"B19013_001M\" ]]\n",
    "medIncome_df = medIncome_df.rename(columns={'B19013_001E': 'Est. Med HH Income (2018 Dollars)' , 'B19013_001M': 'Margin of Error'})\n",
    "medIncome_df.head()"
   ]
  },
  {
   "cell_type": "code",
   "execution_count": null,
   "metadata": {},
   "outputs": [],
   "source": [
    "#merge census data on county/state\n",
    "censusData_df  = pd.merge(left=population_df, right=medIncome_df, on=['State','County'], how='inner')\n",
    "censusData_df = censusData_df[['GEO_ID', 'State', 'County', 'POPESTIMATE2019', 'Est. Med HH Income (2018 Dollars)', 'Margin of Error']]\n",
    "censusData_df.head()"
   ]
  },
  {
   "cell_type": "code",
   "execution_count": null,
   "metadata": {},
   "outputs": [],
   "source": [
    "#api request for lat/Lng data\n",
    "censusData_df['Lat'] = \"\"\n",
    "censusData_df['Lng'] = \"\"\n",
    "lat = []\n",
    "lng = []\n",
    "\n",
    "for i, row in censusData_df.iterrows():\n",
    "    rowCty = row[\"County\"]\n",
    "    rowSte = row[\"State\"]\n",
    "    target_cty = f\"{rowCty}, {rowSte}\"\n",
    "    target_url = ('https://maps.googleapis.com/maps/api/geocode/json?'\n",
    "        'address={0}&key={1}').format(target_cty, g_key)\n",
    "    geo_data = requests.get(target_url).json()\n",
    "    lat.append(geo_data[\"results\"][0][\"geometry\"][\"location\"][\"lat\"])\n",
    "    lng.append(geo_data[\"results\"][0][\"geometry\"][\"location\"][\"lng\"])\n",
    "\n",
    "censusData_df['Lat'] = lat\n",
    "censusData_df['Lng'] = lng\n",
    "    \n",
    "censusData_df.to_csv('Resources/censusData_df_v1.csv', index=False)"
   ]
  },
  {
   "cell_type": "code",
   "execution_count": null,
   "metadata": {},
   "outputs": [],
   "source": [
    "#Load BTS Trips data and cleaned census data and clean dates\n",
    "travel_csv = \"Resources/Trips_by_Distance.csv\"\n",
    "censusData_csv = \"Resources/censusData_df_v1.csv\"\n",
    "travel_df = pd.read_csv(travel_csv)\n",
    "census_data= pd.read_csv(censusData_csv)\n",
    "travel_df.head()\n",
    "\n",
    "travel_df['Date']=pd.to_datetime(travel_df['Date'])\n",
    "start_date_2 = pd.to_datetime('2020/02/01')\n",
    "end_date_2 = pd.to_datetime('2020/06/30')\n",
    "mask2= (travel_df['Date']>=start_date_2) & (travel_df['Date']<=end_date_2)\n",
    "travel_df2 = travel_df.loc[mask2]\n",
    "travel_df_new = travel_df2\n",
    "travel_df_new"
   ]
  },
  {
   "cell_type": "code",
   "execution_count": null,
   "metadata": {},
   "outputs": [],
   "source": [
    "travel_df.dtypes"
   ]
  },
  {
   "cell_type": "code",
   "execution_count": null,
   "metadata": {},
   "outputs": [],
   "source": [
    "travel_df_new['Date'].value_counts()"
   ]
  },
  {
   "cell_type": "code",
   "execution_count": null,
   "metadata": {},
   "outputs": [],
   "source": [
    "travel_df_new.sort_values(by=['Date'])"
   ]
  },
  {
   "cell_type": "code",
   "execution_count": null,
   "metadata": {},
   "outputs": [],
   "source": [
    "states_df = travel_df_new\n",
    "states_df.head()\n",
    "states_sort_df = states_df.sort_values(by=['Date'])\n",
    "states_sort_df['Date'] = pd.to_datetime(states_sort_df['Date'])\n",
    "states_sort_df['Date'] = states_sort_df['Date'].dt.strftime('%#m/%#d/%Y')\n",
    "states_sort_df\n"
   ]
  },
  {
   "cell_type": "code",
   "execution_count": null,
   "metadata": {},
   "outputs": [],
   "source": [
    "#Read daily Covid-19 case data and merge with travel data\n",
    "covid19 = pd.read_csv(\"Resources/COVID19.csv\")\n",
    "covid19 = covid19.dropna()\n",
    "covid19\n",
    "\n",
    "states_sort_df[\"Number of cases\"]=0\n",
    "#states_sort_df.head()\n",
    "for ii in range(len(states_sort_df)):\n",
    "    fips = states_sort_df[\"County FIPS\"].iloc[ii]\n",
    "    date = states_sort_df[\"Date\"].iloc[ii]\n",
    "    try:\n",
    "        states_sort_df[\"Number of cases\"].iloc[ii] = covid19.loc[covid19[\"countyFIPS\"]==fips,date].iloc[0]\n",
    "    except:\n",
    "        continue\n",
    "        \n",
    "states_sort_df"
   ]
  },
  {
   "cell_type": "code",
   "execution_count": null,
   "metadata": {},
   "outputs": [],
   "source": [
    "clean_traffic_cases= states_sort_df[['Level', 'Date', 'State FIPS', 'State Postal Code', 'County FIPS', 'County Name', 'Population Staying at Home', 'Population Not Staying at Home', 'Number of Trips', 'Number of cases']]"
   ]
  },
  {
   "cell_type": "code",
   "execution_count": null,
   "metadata": {},
   "outputs": [],
   "source": [
    "clean_traffic_cases"
   ]
  },
  {
   "cell_type": "code",
   "execution_count": null,
   "metadata": {},
   "outputs": [],
   "source": [
    "census_data = census_data.rename(columns={'County': 'County Name'})\n",
    "census_data"
   ]
  },
  {
   "cell_type": "code",
   "execution_count": null,
   "metadata": {},
   "outputs": [],
   "source": [
    "#load translation table for state codes\n",
    "states_csv = \"Resources/fullname_states.csv\"\n",
    "states_df = pd.read_csv(states_csv)\n",
    "states_df"
   ]
  },
  {
   "cell_type": "code",
   "execution_count": null,
   "metadata": {},
   "outputs": [],
   "source": [
    "#Merge state long names with cleaned project data\n",
    "left = clean_traffic_cases\n",
    "right = states_df\n",
    "traffic_cases_with_states = pd.merge(left, right, on='State Postal Code', how='left')\n",
    "traffic_cases_with_states"
   ]
  },
  {
   "cell_type": "code",
   "execution_count": null,
   "metadata": {},
   "outputs": [],
   "source": [
    "left = traffic_cases_with_states\n",
    "right = census_data\n",
    "traffic_cases_income = pd.merge(left, right, on=['State', 'County Name'], how='inner')\n",
    "\n",
    "traffic_cases_income"
   ]
  },
  {
   "cell_type": "code",
   "execution_count": null,
   "metadata": {},
   "outputs": [],
   "source": [
    "traffic_cases_income_clean =  traffic_cases_income[['Level', 'Date', 'State Postal Code', 'State', 'County Name', 'Population Staying at Home', 'Population Not Staying at Home', 'Number of Trips', 'Number of cases', 'Est. Med HH Income (2018 Dollars)', 'POPESTIMATE2019', 'Lat', 'Lng' ]]"
   ]
  },
  {
   "cell_type": "code",
   "execution_count": null,
   "metadata": {},
   "outputs": [],
   "source": [
    "traffic_cases_income_clean"
   ]
  },
  {
   "cell_type": "code",
   "execution_count": null,
   "metadata": {},
   "outputs": [],
   "source": [
    "#Create travel statistics and format columns \n",
    "sum_column = traffic_cases_income_clean[\"Population Staying at Home\"] + traffic_cases_income_clean[\"Population Not Staying at Home\"]\n",
    "Staying_at_home = ((traffic_cases_income_clean[\"Population Staying at Home\"] / sum_column)*100).round(2).astype(str) + '%'\n",
    "Not_Staying_at_home = ((traffic_cases_income_clean[\"Population Not Staying at Home\"] / sum_column)*100).round(2).astype(str) + '%'\n",
    "traffic_cases_income_clean[\"Total Population\"] = sum_column\n",
    "traffic_cases_income_clean[\"Population Staying at Home Percentage\"] = Staying_at_home\n",
    "traffic_cases_income_clean[\"Population Not Staying at Home Percentage\"] = Not_Staying_at_home\n",
    "traffic_cases_income_clean[\"Est. Med HH Income 2018\"] = traffic_cases_income_clean[\"Est. Med HH Income (2018 Dollars)\"]\n",
    "traffic_cases_income_clean"
   ]
  },
  {
   "cell_type": "code",
   "execution_count": null,
   "metadata": {},
   "outputs": [],
   "source": [
    "traffic_cases_income_format =  traffic_cases_income_clean[['Level', 'Date', 'State Postal Code', 'State', 'County Name', 'Population Staying at Home Percentage', 'Population Not Staying at Home Percentage', 'Number of Trips', 'Number of cases', 'Est. Med HH Income 2018', 'POPESTIMATE2019', 'Lat', 'Lng' ]]"
   ]
  },
  {
   "cell_type": "code",
   "execution_count": null,
   "metadata": {},
   "outputs": [],
   "source": [
    "traffic_cases_income_format"
   ]
  },
  {
   "cell_type": "code",
   "execution_count": null,
   "metadata": {},
   "outputs": [],
   "source": [
    "#create daily new cases data column and add to dataframe\n",
    "traffic_cases_income_format[\"Daily New Cases\"] = \"\"\n",
    "\n",
    "county = \"\"\n",
    "dailyCase = 0\n",
    "dailyCases = []\n",
    "for i, row in traffic_cases_income_format.iterrows():\n",
    "    if row[\"County Name\"] == county:\n",
    "        dailyCases.append(row[\"Number of cases\"] - dailyCase)\n",
    "        dailyCase = row[\"Number of cases\"]\n",
    "    else:\n",
    "        county = row[\"County Name\"]\n",
    "        dailyCases.append(0)\n",
    "        dailyCase = 0\n",
    "\n",
    "traffic_cases_income_format[\"Daily New Cases\"] = dailyCases"
   ]
  },
  {
   "cell_type": "code",
   "execution_count": null,
   "metadata": {},
   "outputs": [],
   "source": [
    "traffic_cases_income_format"
   ]
  },
  {
   "cell_type": "code",
   "execution_count": null,
   "metadata": {},
   "outputs": [],
   "source": [
    "traffic_cases_income_format.to_csv('traffic_cases_income_format.csv', index=False) "
   ]
  },
  {
   "cell_type": "code",
   "execution_count": null,
   "metadata": {},
   "outputs": [],
   "source": [
    "illinoisData = traffic_cases_income_format.loc[traffic_cases_income_format[\"State\"] == \"Illinois\"]\n",
    "illinoisData"
   ]
  },
  {
   "cell_type": "code",
   "execution_count": null,
   "metadata": {},
   "outputs": [],
   "source": [
    "illinoisData.to_csv('illinoisData.csv', index=False) "
   ]
  },
  {
   "cell_type": "code",
   "execution_count": null,
   "metadata": {},
   "outputs": [],
   "source": []
  },
  {
   "cell_type": "code",
   "execution_count": null,
   "metadata": {},
   "outputs": [],
   "source": [
    "travelGroup = traffic_cases_income_format.groupby([\"Date\", \"State Postal Code\"])\n",
    "travelGroupSum = travelGroup.sum()\n",
    "travelGroupSum"
   ]
  },
  {
   "cell_type": "code",
   "execution_count": null,
   "metadata": {},
   "outputs": [],
   "source": [
    "travelGroupSum = travelGroupSum[[\"Number of Trips\",  \"POPESTIMATE2019\", \"Number of cases\",  \"Daily New Cases\" ]]\n",
    "travelGroupSum"
   ]
  },
  {
   "cell_type": "code",
   "execution_count": null,
   "metadata": {},
   "outputs": [],
   "source": [
    "travelGroupSum.to_csv('travelGroupSum.csv') "
   ]
  }
 ],
 "metadata": {
  "kernelspec": {
   "display_name": "Python 3",
   "language": "python",
   "name": "python3"
  },
  "language_info": {
   "codemirror_mode": {
    "name": "ipython",
    "version": 3
   },
   "file_extension": ".py",
   "mimetype": "text/x-python",
   "name": "python",
   "nbconvert_exporter": "python",
   "pygments_lexer": "ipython3",
   "version": "3.7.6"
  }
 },
 "nbformat": 4,
 "nbformat_minor": 4
}
